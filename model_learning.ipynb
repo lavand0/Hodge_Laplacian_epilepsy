{
 "cells": [
  {
   "cell_type": "markdown",
   "metadata": {},
   "source": [
    "## Работа с графом"
   ]
  },
  {
   "cell_type": "code",
   "execution_count": null,
   "metadata": {},
   "outputs": [],
   "source": [
    "import networkx as nx\n",
    "import numpy as np\n",
    "import sys\n",
    "np.set_printoptions(threshold=10)"
   ]
  },
  {
   "cell_type": "code",
   "execution_count": null,
   "metadata": {},
   "outputs": [],
   "source": [
    "# Реализация полезных функций\n",
    "\n",
    "def incidencematrix(G):\n",
    "    return nx.incidence_matrix(G)\n",
    "\n",
    "def hodgelaplacian(G):\n",
    "    B = nx.incidence_matrix(G)\n",
    "    L1 = B.T @ B\n",
    "    return L1\n",
    "\n",
    "def scaledhodgelaplacian(G):\n",
    "    L1 = hodgelaplacian(G)\n",
    "    maxeig = np.linalg.eigvalsh(L1.todense())[-1]\n",
    "    return L1 / maxeig\n",
    "\n",
    "def aggregator(gso, N):\n",
    "    assert gso.shape[0] == gso.shape[1]\n",
    "    # aggregation matrix : number of shifts x [shape of gso]\n",
    "    shifts = [np.eye(gso.shape[0])]\n",
    "    for i in range(N-1):\n",
    "        if (i % 20 == 0):\n",
    "            print(i)\n",
    "        shifts.append(gso @ shifts[-1])\n",
    "    # combined sampling matrix : number of shifts x nodes sampled x number of nodes\n",
    "    return np.array(shifts)\n",
    "\n",
    "def generate_graph(n_elecrtodes: int):\n",
    "    adj_matrix = np.ones((n_elecrtodes, n_elecrtodes)) - np.eye(n_elecrtodes)\n",
    "    return nx.from_numpy_array(adj_matrix)"
   ]
  },
  {
   "cell_type": "code",
   "execution_count": null,
   "metadata": {},
   "outputs": [],
   "source": [
    "G = generate_graph(60)\n",
    "S = scaledhodgelaplacian(G)\n",
    "\n",
    "n_shifts = 100\n",
    "\n",
    "input_path = \"../data/processed_data/\""
   ]
  },
  {
   "cell_type": "code",
   "execution_count": null,
   "metadata": {},
   "outputs": [],
   "source": [
    "agg = aggregator(S, n_shifts)\n",
    "# agg = np.load(input_path + \"aggregator.npy\")"
   ]
  },
  {
   "cell_type": "code",
   "execution_count": null,
   "metadata": {},
   "outputs": [],
   "source": [
    "flows = np.load(\"flows.npy\")\n",
    "\n",
    "validation = np.load(\"validation_areas.npy\")\n",
    "validation = np.repeat(validation, 5)"
   ]
  },
  {
   "cell_type": "code",
   "execution_count": null,
   "metadata": {},
   "outputs": [],
   "source": [
    "shuffle_idx = np.random.permutation(20000)\n",
    "flows = flows[:, shuffle_idx]\n",
    "validation = validation[shuffle_idx]"
   ]
  },
  {
   "cell_type": "code",
   "execution_count": null,
   "metadata": {},
   "outputs": [],
   "source": [
    "X = np.transpose(agg @ flows, (2, 0, 1))"
   ]
  },
  {
   "cell_type": "markdown",
   "metadata": {},
   "source": [
    "## Обучение модели"
   ]
  },
  {
   "cell_type": "code",
   "execution_count": null,
   "metadata": {},
   "outputs": [],
   "source": [
    "import numpy as np\n",
    "from sklearn.preprocessing import LabelEncoder\n",
    "\n",
    "import tensorflow as tf\n",
    "import tensorflow.keras as keras\n",
    "\n",
    "import matplotlib\n",
    "matplotlib.use('Agg')\n",
    "import matplotlib.pyplot as plt"
   ]
  },
  {
   "cell_type": "code",
   "execution_count": null,
   "metadata": {},
   "outputs": [],
   "source": [
    "# function to make 1D CNN classifier\n",
    "def cnn_model(layer_depths, kernel_sizes, dropout_rate, learning_rate, num_classes):\n",
    "    model = keras.Sequential()\n",
    "\n",
    "    for l, k in zip(layer_depths, kernel_sizes):\n",
    "        model.add(keras.layers.Conv1D(filters=l, kernel_size=k, strides=1,\n",
    "                                      padding='same', activation=keras.activations.relu))\n",
    "        model.add(keras.layers.MaxPool1D(pool_size=2, strides=2, padding='same'))\n",
    "    model.add(keras.layers.Flatten())\n",
    "    model.add(keras.layers.Dropout(rate=dropout_rate))\n",
    "    model.add(keras.layers.Dense(num_classes, activation='softmax'))\n",
    "\n",
    "    model.compile(loss=keras.losses.categorical_crossentropy,\n",
    "                  optimizer=tf.optimizers.Adam(learning_rate),\n",
    "                  metrics=['accuracy'])\n",
    "\n",
    "    return model\n",
    "\n",
    "# callback for model to record accuracy\n",
    "class AccuracyHistory(keras.callbacks.Callback):\n",
    "    def on_train_begin(self, logs={}):\n",
    "        self.train_acc = []\n",
    "        self.train_loss = []\n",
    "        self.val_acc = []\n",
    "        self.val_loss = []\n",
    "        \n",
    "    def on_epoch_end(self, batch, logs={}):\n",
    "        self.train_acc.append(logs.get('accuracy'))\n",
    "        self.train_loss.append(logs.get('loss'))\n",
    "        self.val_acc.append(logs.get('val_accuracy'))\n",
    "        self.val_loss.append(logs.get('val_loss'))"
   ]
  },
  {
   "cell_type": "code",
   "execution_count": null,
   "metadata": {},
   "outputs": [],
   "source": [
    "encoder = LabelEncoder()\n",
    "validation_encoded = encoder.fit_transform(validation)"
   ]
  },
  {
   "cell_type": "code",
   "execution_count": null,
   "metadata": {},
   "outputs": [],
   "source": [
    "num = 20\n",
    "\n",
    "patience = 10\n",
    "layer_depths = [16, 32, 64]\n",
    "kernel_sizes = [3, 3, 3]\n",
    "dropout_rate = 0.5\n",
    "learning_rate = 7*1e-5\n",
    "num_classes = 16\n",
    "output_prefix = f\"EEG_epilepsy_{num}\"\n",
    "batch_size = 100\n",
    "epochs = 1000\n",
    "num_train = 16000"
   ]
  },
  {
   "cell_type": "code",
   "execution_count": null,
   "metadata": {},
   "outputs": [],
   "source": [
    "y = keras.utils.to_categorical(validation_encoded, num_classes)\n",
    "y_tr, y_vld = (y[:num_train], y[num_train:])"
   ]
  },
  {
   "cell_type": "code",
   "execution_count": null,
   "metadata": {},
   "outputs": [],
   "source": [
    "X_tr, X_vld = (X[:num_train], X[num_train:])\n",
    "y_tr, y_vld = (y[:num_train], y[num_train:])"
   ]
  },
  {
   "cell_type": "code",
   "execution_count": null,
   "metadata": {},
   "outputs": [],
   "source": [
    "# model generation\n",
    "history = AccuracyHistory()\n",
    "earlystopper = keras.callbacks.EarlyStopping(monitor='val_loss', patience=patience)\n",
    "model = cnn_model(layer_depths, kernel_sizes,\n",
    "                  dropout_rate=dropout_rate, learning_rate=learning_rate,\n",
    "                  num_classes=num_classes)"
   ]
  },
  {
   "cell_type": "code",
   "execution_count": null,
   "metadata": {},
   "outputs": [],
   "source": [
    "# train!\n",
    "model.fit(X_tr, y_tr,\n",
    "          batch_size=batch_size,\n",
    "          epochs=epochs,\n",
    "          verbose=1,\n",
    "          validation_data=(X_vld, y_vld),\n",
    "          callbacks=[history, earlystopper])\n",
    "\n",
    "training_score = model.evaluate(X_tr, y_tr, verbose=0)\n",
    "validation_score = model.evaluate(X_vld, y_vld, verbose=0)"
   ]
  },
  {
   "cell_type": "code",
   "execution_count": null,
   "metadata": {},
   "outputs": [],
   "source": [
    "# save model\n",
    "model.save(f'my_model_{num}.keras')\n",
    "output_prefix = f\"EEG_epilepsy_{num}\"\n",
    "output_path = f\"../results/{num}/\""
   ]
  },
  {
   "cell_type": "code",
   "execution_count": null,
   "metadata": {},
   "outputs": [],
   "source": [
    "# save information and results\n",
    "\n",
    "## parameters and final performance\n",
    "params_file = open(output_path + f'{output_prefix}-params.txt','w')\n",
    "        \n",
    "params_file.write(f'Training Loss:       {training_score[0]}\\n')\n",
    "params_file.write(f'Training Accuracy:   {training_score[1]}\\n')\n",
    "params_file.write(f'Validation Loss:     {validation_score[0]}\\n')\n",
    "params_file.write(f'Validation Accuracy: {validation_score[1]}\\n')\n",
    "params_file.close()\n",
    "\n",
    "## training, validation  loss, accuracy\n",
    "tr_loss_file = open(output_path + f'{output_prefix}-tr-loss.txt', 'w')\n",
    "tr_acc_file = open(output_path + f'{output_prefix}-tr-acc.txt', 'w')\n",
    "val_loss_file = open(output_path + f'{output_prefix}-val-loss.txt', 'w')\n",
    "val_acc_file = open(output_path + f'{output_prefix}-val-acc.txt', 'w')\n",
    "\n",
    "for file_handler, training_data in zip([tr_loss_file, tr_acc_file,\n",
    "                                        val_loss_file, val_acc_file],\n",
    "                                       [history.train_loss, history.train_acc,\n",
    "                                        history.val_loss, history.val_acc]):\n",
    "    for index, item in enumerate(training_data):\n",
    "        file_handler.write(f'{index}\\t{item}\\n')\n",
    "    file_handler.close()"
   ]
  },
  {
   "cell_type": "code",
   "execution_count": null,
   "metadata": {},
   "outputs": [],
   "source": [
    "# Графики\n",
    "\n",
    "epochs = range(1, len(history.val_acc) + 1)\n",
    "\n",
    "plt.figure(figsize=(12, 6), dpi=300)\n",
    "\n",
    "# Validation Accuracy\n",
    "plt.subplot(1, 2, 1)\n",
    "plt.scatter(epochs, history.val_acc, linestyle='-', color='g', label='Validation Accuracy', s=5)\n",
    "plt.xlabel('Epochs', fontsize=12)\n",
    "plt.ylabel('Validation Accuracy', fontsize=12)\n",
    "plt.title('Validation Accuracy', fontsize=14, fontweight='bold')\n",
    "plt.legend()\n",
    "plt.grid(True, linestyle='--', alpha=0.6)\n",
    "plt.ylim(0, 1)\n",
    "\n",
    "# Training & Validation Loss\n",
    "plt.subplot(1, 2, 2) \n",
    "plt.scatter(epochs, history.train_loss, linestyle='-', color='r', label='Training Loss', alpha=0.7, s=5)\n",
    "plt.scatter(epochs, history.val_loss, linestyle='-', color='b', label='Validation Loss', alpha=0.7, s=5)\n",
    "plt.xlabel('Epochs', fontsize=12)\n",
    "plt.ylabel('Loss', fontsize=12)\n",
    "plt.title('Training & Validation Loss', fontsize=14, fontweight='bold')\n",
    "plt.legend()\n",
    "plt.grid(True, linestyle='--', alpha=0.6)\n",
    "plt.ylim(bottom=0) \n",
    "\n",
    "plt.tight_layout()\n",
    "\n",
    "# Сохранение\n",
    "plt.savefig(output_path + f'metrics_plot_{num}.png', dpi=300, bbox_inches='tight')\n",
    "\n",
    "plt.show()"
   ]
  }
 ],
 "metadata": {
  "kernelspec": {
   "display_name": "base",
   "language": "python",
   "name": "python3"
  },
  "language_info": {
   "name": "python",
   "version": "3.11.5"
  }
 },
 "nbformat": 4,
 "nbformat_minor": 2
}
