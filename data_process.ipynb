{
 "cells": [
  {
   "cell_type": "markdown",
   "metadata": {},
   "source": [
    "## Преобразование данных"
   ]
  },
  {
   "cell_type": "code",
   "execution_count": null,
   "metadata": {},
   "outputs": [],
   "source": [
    "import numpy as np\n",
    "import gc\n",
    "import os\n",
    "from mne_connectivity import spectral_connectivity_epochs"
   ]
  },
  {
   "cell_type": "code",
   "execution_count": null,
   "metadata": {},
   "outputs": [],
   "source": [
    "input_path = \"../data/raw_eeg/\"\n",
    "output_path = \"../data_npy\"\n",
    "\n",
    "eeg_fnames = [fname for fname in os.listdir(input_path) if fname.endswith('.fif')]\n",
    "eeg_fnames = np.array(sorted(eeg_fnames, key=lambda fname: fname.split('_')[0].split('.')[0]))"
   ]
  },
  {
   "cell_type": "code",
   "execution_count": null,
   "metadata": {},
   "outputs": [],
   "source": [
    "# Функция для рассчета коннектом\n",
    "\n",
    "def comp_eeg_coh_epoch_connectomes(\n",
    "    raw: mne.io.Raw,\n",
    "    sfreq: int,\n",
    "    num_channels: int,\n",
    "    epoch_duration: int = 15\n",
    "):\n",
    "    raw.filter(0.5, 40, fir_design='firwin')\n",
    "    epochs = mne.make_fixed_length_epochs(raw, duration=epoch_duration, preload=True)\n",
    "    del raw\n",
    "\n",
    "    num_epochs = len(epochs)\n",
    "    freq_bands = {\n",
    "        'delta': (0.5, 4),\n",
    "        'theta': (4, 8), \n",
    "        'alpha': (8, 12),\n",
    "        'beta': (12, 30),\n",
    "        'gamma': (30, 40)\n",
    "    }\n",
    "\n",
    "    connectome_size = num_channels * num_channels\n",
    "    all_connectomes = dict()\n",
    "    for rhythm, limits in freq_bands.items():\n",
    "        cur_rhythm_connectomes = np.zeros((num_epochs, connectome_size))\n",
    "        for epoch_idx, epoch in enumerate(epochs):\n",
    "            cur_rhythm_connectomes[epoch_idx] = spectral_connectivity_epochs(\n",
    "                [epoch],\n",
    "                sfreq=sfreq, \n",
    "                method='coh', \n",
    "                mode='multitaper', \n",
    "                fmin=limits[0], \n",
    "                fmax=limits[1], \n",
    "                faverage=True, \n",
    "                verbose=False\n",
    "            ).get_data().ravel()\n",
    "        all_connectomes[rhythm] = cur_rhythm_connectomes\n",
    "    del epochs\n",
    "    return all_connectomes"
   ]
  },
  {
   "cell_type": "code",
   "execution_count": null,
   "metadata": {},
   "outputs": [],
   "source": [
    "#  Функция преобразование коннектомы в поток\n",
    "\n",
    "def matrix_to_signal_flow(A: np.array):\n",
    "    assert A.shape[0] == A.shape[1]\n",
    "    \n",
    "    n = A.shape[0]\n",
    "    f = np.array([A[i, j] for j in range(n) for i in range(j + 1, n)])[:, np.newaxis]\n",
    "    \n",
    "    return f"
   ]
  },
  {
   "cell_type": "code",
   "execution_count": null,
   "metadata": {},
   "outputs": [],
   "source": [
    "# EEG -> flows\n",
    "\n",
    "flows_list = []\n",
    "error_files = []\n",
    "for filename in eeg_fnames:\n",
    "    my_raw = mne.io.read_raw_fif(input_path + filename)\n",
    "    my_raw.load_data()\n",
    "    \n",
    "    sfreq = my_raw.info['sfreq']\n",
    "    nchan = my_raw.info['nchan']\n",
    "    \n",
    "    try:\n",
    "        data = comp_eeg_coh_epoch_connectomes(my_raw, sfreq, nchan)\n",
    "    except Exception as e:\n",
    "        error_files.append(filename)\n",
    "        continue\n",
    "        \n",
    "    \n",
    "    del my_raw\n",
    "    gc.collect()\n",
    "    print(filename)\n",
    "    \n",
    "    for _, f in data.items():\n",
    "        f = f.reshape((nchan, nchan))\n",
    "        flow = matrix_to_signal_flow(f)\n",
    "        flows_list.append(flow)\n",
    "    \n",
    "flows = np.concatenate(flows_list, axis=1)"
   ]
  },
  {
   "cell_type": "code",
   "execution_count": null,
   "metadata": {},
   "outputs": [],
   "source": [
    "flows = np.concatenate(flows_list, axis=1)\n",
    "print(flows.shape)\n",
    "\n",
    "np.save(\"flows.npy\", flows)"
   ]
  }
 ],
 "metadata": {
  "kernelspec": {
   "display_name": "base",
   "language": "python",
   "name": "python3"
  },
  "language_info": {
   "name": "python",
   "version": "3.11.5"
  }
 },
 "nbformat": 4,
 "nbformat_minor": 2
}
